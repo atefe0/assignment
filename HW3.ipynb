{
 "cells": [
  {
   "cell_type": "markdown",
   "id": "971de089",
   "metadata": {},
   "source": [
    "# Assignment 3: Functions, Lambda, Exception Handling\n",
    "\n",
    "**Course:** AbzumsAI Programming 1404\n",
    "\n",
    "**Instructor:** Mr. Ali Mohammadzadeh Shabestari\n",
    "\n",
    "**Date Assigned:** June 28, 2025\n",
    "\n",
    "**Deadline:** July 2, 2025"
   ]
  },
  {
   "cell_type": "markdown",
   "id": "08247c0f",
   "metadata": {},
   "source": [
    "## Learning Objectives\n",
    "\n",
    "By the end of this notebook, you will:\n",
    "\n",
    "- Define and call functions with parameters and return values in Python.\n",
    "- Use default parameters and understand how functions improve code reusability.\n",
    "- Create and apply anonymous functions using lambda syntax.\n",
    "- Use lambda with built-in functions like `map()` and `filter()` to process data concisely.\n",
    "- Handle runtime errors gracefully using `try` and `except` blocks.\n",
    "- Write robust programs that validate user input and prevent crashes due to exceptions.\n",
    "\n",
    "---"
   ]
  },
  {
   "cell_type": "markdown",
   "id": "20adfbee",
   "metadata": {
    "jupyter": {
     "source_hidden": true
    }
   },
   "source": [
    "# Cell 0: Student Information\n",
    "\n",
    "### Please enter your details for grading purposes:\n",
    "\n",
    "Your Name: Atefeh Aghazadeh\n",
    "\n",
    "Your Email: atefeaqazade@gmail.com\n",
    "\n",
    "Your GtiHub Link: https://github.com/atefe0/assignment.git"
   ]
  },
  {
   "cell_type": "markdown",
   "id": "f52707df",
   "metadata": {
    "jupyter": {
     "source_hidden": true
    }
   },
   "source": [
    "## Cell 1: Basic Function Definition"
   ]
  },
  {
   "cell_type": "markdown",
   "id": "0e9b1c2c",
   "metadata": {},
   "source": [
    "Write a function called `greet` that\n",
    "- Takes a name as input, and prints \"Hello, `name`!\"\n"
   ]
  },
  {
   "cell_type": "code",
   "execution_count": null,
   "id": "e32c723b",
   "metadata": {},
   "outputs": [],
   "source": [
    "def greet():\n",
    "    user_name = input(\"Enter your name\")\n",
    "    return f\"hello, {user_name}!\"\n",
    "\n",
    "greet()"
   ]
  },
  {
   "cell_type": "markdown",
   "id": "343fbe55",
   "metadata": {},
   "source": [
    "## Cell 2: Function with Return Value"
   ]
  },
  {
   "cell_type": "markdown",
   "id": "ec478dc6",
   "metadata": {},
   "source": [
    "Write a function `analyze_numbers` that takes two numbers as input. The function should:\n",
    "- Print both numbers\n",
    "- Calculate their sum\n",
    "- Print whether the sum is even or odd\n",
    "- Return the sum\n",
    "\n"
   ]
  },
  {
   "cell_type": "code",
   "execution_count": 1,
   "id": "8061cdba",
   "metadata": {},
   "outputs": [],
   "source": [
    "def analyze_numbers(num1, num2):\n",
    "    num1 = int(input(\"first number\"))\n",
    "    num2 = int(input(\"second number\"))\n",
    "    print(\"first number:\", num1)\n",
    "    print(\"second number:\", num2)\n",
    "    total = num1 + num2\n",
    "    print(\"sum:\", total)\n",
    "    if total % 2 ==0:\n",
    "        print(\"The sum is even.\")\n",
    "    else:\n",
    "        print(\"The sum is odd.\")\n",
    "    return total\n",
    "\n",
    "result = analyze_numbers(num1, num2)\n",
    "print(\"returned value:\", result)\n",
    "    "
   ]
  },
  {
   "cell_type": "markdown",
   "id": "0711bafc",
   "metadata": {},
   "source": [
    "## Cell 3: Fucntion with Multiple Return Value"
   ]
  },
  {
   "cell_type": "markdown",
   "id": "c1532d72",
   "metadata": {},
   "source": [
    "Write a function called find_a_b that takes two numbers as input:\n",
    "- The sum of two unknown numbers (x + y)\n",
    "- The difference of those same two numbers (x - y)\n",
    "\n",
    "The function should:\n",
    "- Calculate and return the original numbers x and y in order (x, y)\n",
    "- Assume that x > y\n",
    "\n",
    "\n",
    "x = input(\"first number\")\n",
    "y = input(\"second number\")\n",
    "\n",
    "def find_a_b("
   ]
  },
  {
   "cell_type": "code",
   "execution_count": null,
   "id": "77fa28dc-de12-41e2-a805-26a9431cc8f3",
   "metadata": {},
   "outputs": [],
   "source": [
    "def find_a_b(sum_xy, diff_xy):\n",
    "    sum_xy = float(input(\"Enter the sum of two numbers(x + y)\"))\n",
    "    diff_xy = float(input(\"Enter the difference of two numbers(x - y)\"))\n",
    "   \n",
    "    x = (sum_xy + diff_xy) / 2\n",
    "    y = (sum_xy - diff_xy) / 2\n",
    "\n",
    "    print(f\"x = {x}, y = {y}\")\n",
    "\n",
    "find_a_b()"
   ]
  },
  {
   "cell_type": "markdown",
   "id": "884813ad",
   "metadata": {},
   "source": [
    "## Cell 4: Function with Default Argument"
   ]
  },
  {
   "cell_type": "markdown",
   "id": "a37e7992",
   "metadata": {},
   "source": [
    "Read the function below carefully.\n",
    "- In your own words, explain what this function does step by step.\n",
    "- Write your explanation in the following cell 👇"
   ]
  },
  {
   "cell_type": "markdown",
   "id": "f09b013a",
   "metadata": {},
   "source": [
    "🌱 Your Answer:این تابع قیمت و دو تا مقدار تخفیف و مالیات که یه مقدار پیش فرض دارن رو به عنوان ورودی دریافت میکنه\n",
    "در مرحله اول همون قیمت رو چاپ میکنه و بعد ابتدا مقدار تخفیف رو حساب میکنه بعد هم مقدار قیمت نهایی رو با کم کردن تحفیف از قیمت اولیه حساب میکنه و هر دو رو چاپ میکنه\n",
    "توی قدم بعدی میاد مقدار مالیات رو اول حساب میکنه بعد با مقدار نهایی بعد تخفیف جمع میکنه تا قیمت نهایی محاسبه بشه بعد هر دو مقدار رو چاپ میکنه\n",
    "در قدم بعد هم مقدار قیمت نهایی رو به ما میده با گرد کردن تا دو عدد اعشار\n",
    "در اخرین خط هم به تابع ورودی 100 رو میده که برنامه اجرا بشه"
   ]
  },
  {
   "cell_type": "code",
   "execution_count": null,
   "id": "7c224bb3",
   "metadata": {},
   "outputs": [],
   "source": [
    "def calculate_discounted_price(price, discount=10, tax=5):\n",
    "    print(f\"Original price: ${price}\")\n",
    "    \n",
    "    discount_amount = price * (discount / 100)\n",
    "    price_after_discount = price - discount_amount\n",
    "    print(f\"Discount ({discount}%): -${discount_amount}\")\n",
    "    print(f\"Price after discount: ${price_after_discount}\")\n",
    "    \n",
    "    tax_amount = price_after_discount * (tax / 100)\n",
    "    final_price = price_after_discount + tax_amount\n",
    "    print(f\"Tax ({tax}%): +${tax_amount}\")\n",
    "    print(f\"Final price: ${final_price}\")\n",
    "    \n",
    "    return round(final_price, 2)\n",
    "\n",
    "# Example usage:\n",
    "calculate_discounted_price(100)"
   ]
  },
  {
   "cell_type": "markdown",
   "id": "f52389fd",
   "metadata": {},
   "source": [
    "## Cell 5: Lambda with `map()`"
   ]
  },
  {
   "cell_type": "markdown",
   "id": "9e6be806",
   "metadata": {},
   "source": [
    "You are given a list of full names in the format \"First Last\".\n",
    "- Use `map()` and a `lambda` function to extract only the first names from the list."
   ]
  },
  {
   "cell_type": "code",
   "execution_count": 3,
   "id": "ee4c20c3",
   "metadata": {},
   "outputs": [],
   "source": [
    "full_names = [\"Alexander Fleming\", \"Elizabeth Blackwell\", \"Edward Jenner\", \"William Osler\"]\n",
    "\n",
    "first_names = list(map(lambda name: name.splite()[0], full_names))\n",
    "print(full_names)"
   ]
  },
  {
   "cell_type": "markdown",
   "id": "11355cd8",
   "metadata": {},
   "source": [
    "## Cell 6: Lambda with `filter()`"
   ]
  },
  {
   "cell_type": "markdown",
   "id": "3a9dd04a",
   "metadata": {},
   "source": [
    "You are given a list of user dictionaries. Each user has a name, age, and an \"active\" status.\n",
    "Use `filter()` and a `lambda` function to select users who:\n",
    "- Are at least 18 years old\n",
    "- Have 'active' set to True\n",
    "\n",
    "💡 Make use of `and` operator"
   ]
  },
  {
   "cell_type": "code",
   "execution_count": 4,
   "id": "4dd5903d",
   "metadata": {},
   "outputs": [],
   "source": [
    "users = [\n",
    "    {\"name\": \"Ali\", \"age\": 17, \"active\": True},\n",
    "    {\"name\": \"Sara\", \"age\": 22, \"active\": False},\n",
    "    {\"name\": \"Reza\", \"age\": 19, \"active\": True},\n",
    "    {\"name\": \"Lina\", \"age\": 25, \"active\": True},\n",
    "    {\"name\": \"Mona\", \"age\": 16, \"active\": True},\n",
    "    {\"name\": \"Javad\", \"age\": 20, \"active\": False},\n",
    "]\n",
    "\n",
    "filtered_users = list(filter(lambda user: user[\"age\"] >= 18 and user[\"active\"] == True, users))\n",
    "print(filtered_users)"
   ]
  },
  {
   "cell_type": "markdown",
   "id": "3c88871f",
   "metadata": {},
   "source": [
    "## Cell 7: Exception Handling"
   ]
  },
  {
   "cell_type": "markdown",
   "id": "70f56881",
   "metadata": {},
   "source": [
    "Carefully read the following code.\n",
    "- Do NOT run or modify it yet.\n",
    "- In the next cell, explain in your own words what this program does, step by step. 👇"
   ]
  },
  {
   "cell_type": "markdown",
   "id": "4e9e5779",
   "metadata": {},
   "source": [
    "🌱 Your Answer:برنامه یک حلقه رو اجرا میکنه که از کاربر دو ورودی میگیره و بعد تبدیل به عدد اعشاری میکنه سپس حاصل تقسیم رو محاسبه میکنه \n",
    " رو نشون میده ValueٍٍٍErrorحالا اگر ورودی ما عدد نبود مثلا متن بود به ما خطای \n",
    "نشون میده که مخرج نمیتونه صفر باشهZeroDivisinError اگر مخرج ما صفر بود به ما خطای \n",
    "اگر هیچ کدوم از خطاها نبود حاصل تقسیم رو چاپ میکنه با گرد کردن تا سه رقم اعشار و بعد حلقه رو میشکنه\n",
    "در تهایت هم عبارت داخل پرانتز رو چاپ میکنه"
   ]
  },
  {
   "cell_type": "code",
   "execution_count": null,
   "id": "42bbaecd",
   "metadata": {},
   "outputs": [],
   "source": [
    "while True:\n",
    "    try:\n",
    "        numerator = float(input(\"Enter the numerator: \"))\n",
    "        denominator = float(input(\"Enter the denominator: \"))\n",
    "\n",
    "        result = numerator / denominator\n",
    "    except ValueError:\n",
    "        print(\"⚠️ Please enter valid numeric values.\")\n",
    "        continue\n",
    "    except ZeroDivisionError:\n",
    "        print(\"⚠️ Denominator cannot be zero. Try again.\")\n",
    "        continue\n",
    "    else:\n",
    "        print(f\"✅ Result: {round(result, 3)}\")\n",
    "        break\n",
    "    finally:\n",
    "        print(\"📘 Thank you for using the divider.\\n\")"
   ]
  }
 ],
 "metadata": {
  "kernelspec": {
   "display_name": "Python 3 (ipykernel)",
   "language": "python",
   "name": "python3"
  },
  "language_info": {
   "codemirror_mode": {
    "name": "ipython",
    "version": 3
   },
   "file_extension": ".py",
   "mimetype": "text/x-python",
   "name": "python",
   "nbconvert_exporter": "python",
   "pygments_lexer": "ipython3",
   "version": "3.11.4"
  }
 },
 "nbformat": 4,
 "nbformat_minor": 5
}
