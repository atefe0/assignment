{
 "cells": [
  {
   "cell_type": "code",
   "execution_count": null,
   "id": "8ceea40f-624e-41fa-86d6-7125832f4bcc",
   "metadata": {},
   "outputs": [],
   "source": [
    "board = [\"_\"] * 9"
   ]
  },
  {
   "cell_type": "code",
   "execution_count": 1,
   "id": "e13810d7-834d-49d0-a911-c7af7bd06387",
   "metadata": {},
   "outputs": [],
   "source": [
    "player1 = \"\"\n",
    "player2 = \"\"\n",
    "current_player = \"\"\n",
    "game_still_going = True\n",
    "winner = None"
   ]
  },
  {
   "cell_type": "code",
   "execution_count": 2,
   "id": "4c37f5de-5a78-4f7b-b95c-1693d68423ef",
   "metadata": {},
   "outputs": [],
   "source": [
    "def board():\n",
    "    print()\n",
    "    print(board[0],\"|\", board[1], \"|\", board[2])\n",
    "    print(board[3], \"|\", board[4], \"|\", board[5])\n",
    "    print(board[6], \"|\", board[7], \"|\", board[8])\n",
    "    print()"
   ]
  },
  {
   "cell_type": "code",
   "execution_count": 5,
   "id": "1b66b184-a224-4865-9d9a-961e625a346a",
   "metadata": {},
   "outputs": [],
   "source": [
    "def symbol():\n",
    "    global player1, player2, current_player\n",
    "    while True:\n",
    "        choice = input(\"Choose X or O\").upper()\n",
    "        if choice in [\"X\", \"O\"]:\n",
    "           player1 = choice\n",
    "           player2 = \"O\" if player1 == \"X\" else \"X\"\n",
    "           current_player = player1\n",
    "           print(f\"player1 is {player1}, player2 is {player2}\")\n",
    "           break\n",
    "        else:\n",
    "            print(\"Invalid choice. Please enter X or O\")"
   ]
  },
  {
   "cell_type": "code",
   "execution_count": 7,
   "id": "9ee95d78-9d5f-4ee5-bce1-f111a04418e1",
   "metadata": {},
   "outputs": [],
   "source": [
    "def turn():\n",
    "    global board\n",
    "    while True:\n",
    "        try:\n",
    "            move = int(input(f\"{current_player} choose a position (1-9):\")) - 1\n",
    "            if move > 0 and move < 9:\n",
    "                if board[move] == \"_\":\n",
    "                    board[move] = current_player\n",
    "                    break\n",
    "                else:\n",
    "                    print(\"That spot is already taken.\")\n",
    "            else:\n",
    "                print(\"Choose a number between 1 and 9.\")\n",
    "        except ValueError:\n",
    "            print(\"Invalid input. Please enter a number between 1 and 9.\")\n",
    "                "
   ]
  },
  {
   "cell_type": "code",
   "execution_count": 14,
   "id": "ddd203b1-d4b4-4ebf-82e9-15995fa7f66b",
   "metadata": {},
   "outputs": [],
   "source": [
    "def check_winner():\n",
    "    global winner, game_still_going\n",
    "    wins = [\n",
    "    [0,1,2], [3,4,5], [6,7,8],\n",
    "    [0,3,6], [1,4,7], [2,5,8], \n",
    "    [0,4,8], [2,4,6]\n",
    "]\n",
    "    for win in wins:\n",
    "        a, b, c = game\n",
    "        if board[a] == board[b] ==board[c] !=\"_\":\n",
    "            winner = board[a]\n",
    "            game_stil_going = False\n",
    "            break\n",
    "\n",
    "def tie():\n",
    "    global game_still_going\n",
    "    if \"_\" not in board and winner is None:\n",
    "        game_still_going = False\n",
    "\n",
    "def player():\n",
    "    global cuttrnt_player\n",
    "    current_player = player1 if current_player == player2 else player2\n",
    "\n",
    "def play_game():\n",
    "    print(\"Welcome to Tic Tac Toe.\")\n",
    "    board()\n",
    "    symbol()\n",
    "\n",
    "    while game_still_going:\n",
    "        turn()\n",
    "        board()\n",
    "        check_winner()\n",
    "        tie()\n",
    "        if game_still_going:\n",
    "            play()\n",
    "    if winner:\n",
    "        print(\"player {winner} wins.\")\n",
    "    else:\n",
    "        print(\"It is a tie.\")"
   ]
  }
 ],
 "metadata": {
  "kernelspec": {
   "display_name": "Python 3 (ipykernel)",
   "language": "python",
   "name": "python3"
  },
  "language_info": {
   "codemirror_mode": {
    "name": "ipython",
    "version": 3
   },
   "file_extension": ".py",
   "mimetype": "text/x-python",
   "name": "python",
   "nbconvert_exporter": "python",
   "pygments_lexer": "ipython3",
   "version": "3.11.4"
  }
 },
 "nbformat": 4,
 "nbformat_minor": 5
}
