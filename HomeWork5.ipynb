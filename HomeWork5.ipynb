{
 "cells": [
  {
   "cell_type": "code",
   "execution_count": 1,
   "id": "26d4126f-00fd-4f72-bfe4-3be5d54cee45",
   "metadata": {},
   "outputs": [
    {
     "name": "stdout",
     "output_type": "stream",
     "text": [
      " This is a sample file.\n"
     ]
    }
   ],
   "source": [
    "#task 1.1\n",
    "with open(\"sample.txt\", \"w\") as f:\n",
    "    f.write(\" This is a sample file.\")\n",
    "\n",
    "with open(\"sample.txt\", \"r\") as f:\n",
    "    content = f.read()\n",
    "    print(content)"
   ]
  },
  {
   "cell_type": "code",
   "execution_count": 6,
   "id": "e02e42c8-386e-4949-9836-8da87f457424",
   "metadata": {},
   "outputs": [
    {
     "name": "stdout",
     "output_type": "stream",
     "text": [
      "Name,Age,Occupation\n",
      "\n",
      "Alice,30,Engineer\n",
      "\n",
      "Bob,25,Designer\n",
      "\n",
      "\n"
     ]
    }
   ],
   "source": [
    "#task 1.2\n",
    "import csv\n",
    "\n",
    "with open(\"data.csv\", \"w\") as f:\n",
    "    file = csv.writer(f)\n",
    "    file.writerow([\"Name\", \"Age\", \"Occupation\"])\n",
    "    file.writerow([\"Alice\", \"30\", \"Engineer\"])\n",
    "    file.writerow([\"Bob\", \"25\", \"Designer\"])\n",
    "\n",
    "with open(\"data.csv\", \"r\") as f:\n",
    "    file = f.read()\n",
    "    print(file)"
   ]
  },
  {
   "cell_type": "code",
   "execution_count": 8,
   "id": "bff1acdd-6a30-48a2-bf7f-2c945b0d80bf",
   "metadata": {},
   "outputs": [
    {
     "name": "stdout",
     "output_type": "stream",
     "text": [
      "{'name': 'Test', 'value': 42}\n"
     ]
    }
   ],
   "source": [
    "#task 1.3\n",
    "import json\n",
    "\n",
    "data = {\"name\": \"Test\", \"value\": 42}\n",
    "\n",
    "with open(\"config.json\", \"w\") as f:\n",
    "    json.dump(data, f)\n",
    "\n",
    "with open(\"config.json\", \"r\") as f:\n",
    "    file = json.load(f)\n",
    "    print(file)"
   ]
  },
  {
   "cell_type": "code",
   "execution_count": 11,
   "id": "3ccfe628-f301-47cc-b752-9fca94b428ae",
   "metadata": {},
   "outputs": [
    {
     "name": "stdout",
     "output_type": "stream",
     "text": [
      "[0, 1, 4, 9, 16, 25, 36, 49, 64, 81]\n"
     ]
    }
   ],
   "source": [
    "#task 2.1\n",
    "numbers = [0, 1, 2, 3, 4, 5, 6, 7, 8, 9]\n",
    "\n",
    "squars = [x ** 2 for x in numbers]\n",
    "print(squars)"
   ]
  },
  {
   "cell_type": "code",
   "execution_count": 14,
   "id": "0f934631-35fa-4eb0-a458-6f2c8e0edfc8",
   "metadata": {},
   "outputs": [
    {
     "name": "stdout",
     "output_type": "stream",
     "text": [
      "{1: 1, 2: 8, 3: 27, 4: 64, 5: 125}\n"
     ]
    }
   ],
   "source": [
    "#task 2.2\n",
    "cubes = {x : x ** 3 for x in range(1, 6)}\n",
    "print(cubes)"
   ]
  },
  {
   "cell_type": "code",
   "execution_count": 15,
   "id": "74afe9ad-653d-406c-935c-6131182ce6a7",
   "metadata": {},
   "outputs": [
    {
     "name": "stdout",
     "output_type": "stream",
     "text": [
      "[0, 2, 4, 6, 8, 10, 12, 14, 16, 18, 20]\n"
     ]
    }
   ],
   "source": [
    "#task 2.3\n",
    "evens = [ x for x in range(21) if x % 2 == 0]\n",
    "print(evens)"
   ]
  },
  {
   "cell_type": "code",
   "execution_count": 16,
   "id": "03c4b16b-8adc-46ae-8653-731647f78ada",
   "metadata": {},
   "outputs": [
    {
     "name": "stdout",
     "output_type": "stream",
     "text": [
      "4.0\n"
     ]
    }
   ],
   "source": [
    "#task 3.1\n",
    "import math\n",
    "root = math.sqrt(16)\n",
    "print(root)"
   ]
  },
  {
   "cell_type": "code",
   "execution_count": 17,
   "id": "446fdb8b-61a4-4412-8cf7-1b3bbeb94b6d",
   "metadata": {},
   "outputs": [
    {
     "name": "stdout",
     "output_type": "stream",
     "text": [
      "10\n"
     ]
    }
   ],
   "source": [
    "#task 3.2\n",
    "from random import randint\n",
    "\n",
    "print(randint(1, 10))"
   ]
  },
  {
   "cell_type": "code",
   "execution_count": 23,
   "id": "369f9203-7eb9-42b9-8020-ba9f63abcbcb",
   "metadata": {},
   "outputs": [
    {
     "name": "stdout",
     "output_type": "stream",
     "text": [
      "Hello, Alice\n"
     ]
    }
   ],
   "source": [
    "#task 3.3\n",
    "with open(\"mymodule.py\", \"w\") as f:\n",
    "    f.write('def greet(name):\\n return f\"Hello, {name}\"')\n",
    "\n",
    "import mymodule\n",
    "print(mymodule.greet(\"Alice\"))"
   ]
  },
  {
   "cell_type": "code",
   "execution_count": 7,
   "id": "89597b07-eca2-4dba-929a-463502cc7b05",
   "metadata": {},
   "outputs": [
    {
     "ename": "AttributeError",
     "evalue": "'builtin_function_or_method' object has no attribute 'strftime'",
     "output_type": "error",
     "traceback": [
      "\u001b[31m---------------------------------------------------------------------------\u001b[39m",
      "\u001b[31mAttributeError\u001b[39m                            Traceback (most recent call last)",
      "\u001b[36mCell\u001b[39m\u001b[36m \u001b[39m\u001b[32mIn[7]\u001b[39m\u001b[32m, line 4\u001b[39m\n\u001b[32m      2\u001b[39m \u001b[38;5;28;01mimport\u001b[39;00m\u001b[38;5;250m \u001b[39m\u001b[34;01mdatetime\u001b[39;00m\n\u001b[32m      3\u001b[39m today = datetime.date.today\n\u001b[32m----> \u001b[39m\u001b[32m4\u001b[39m \u001b[38;5;28mprint\u001b[39m(\u001b[43mtoday\u001b[49m\u001b[43m.\u001b[49m\u001b[43mstrftime\u001b[49m(\u001b[33m\"\u001b[39m\u001b[33m%\u001b[39m\u001b[33my\u001b[39m\u001b[33m%\u001b[39m\u001b[33mm\u001b[39m\u001b[38;5;132;01m%d\u001b[39;00m\u001b[33m\"\u001b[39m))\n",
      "\u001b[31mAttributeError\u001b[39m: 'builtin_function_or_method' object has no attribute 'strftime'"
     ]
    }
   ],
   "source": [
    "#task 3.4\n",
    "import datetime\n",
    "today = datetime.date.today\n",
    "print(today.strftime(\"%y%m%d\"))"
   ]
  },
  {
   "cell_type": "code",
   "execution_count": null,
   "id": "fb384a0f-bbb5-4e8c-9262-b527478f0b64",
   "metadata": {},
   "outputs": [],
   "source": []
  }
 ],
 "metadata": {
  "kernelspec": {
   "display_name": "Python 3 (ipykernel)",
   "language": "python",
   "name": "python3"
  },
  "language_info": {
   "codemirror_mode": {
    "name": "ipython",
    "version": 3
   },
   "file_extension": ".py",
   "mimetype": "text/x-python",
   "name": "python",
   "nbconvert_exporter": "python",
   "pygments_lexer": "ipython3",
   "version": "3.11.4"
  }
 },
 "nbformat": 4,
 "nbformat_minor": 5
}
